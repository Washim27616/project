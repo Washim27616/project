{
 "cells": [
  {
   "cell_type": "code",
   "execution_count": 1,
   "id": "e7a2f38c",
   "metadata": {},
   "outputs": [],
   "source": [
    "import tensorflow as tf\n",
    "from tensorflow import keras\n",
    "from tensorflow.keras.models import Sequential\n",
    "from tensorflow.keras.layers import Conv2D, MaxPooling2D, Dense, Flatten, Dropout\n",
    "from tensorflow.keras.optimizers import Adam\n",
    "from sklearn.metrics import confusion_matrix\n",
    "\n",
    "import numpy as np\n",
    "import pandas as pd\n",
    "import matplotlib.pyplot as plt\n",
    "import seaborn as sns\n",
    "from sklearn.model_selection import train_test_split"
   ]
  },
  {
   "cell_type": "code",
   "execution_count": 18,
   "id": "2cd5d5f1",
   "metadata": {},
   "outputs": [],
   "source": [
    "#(x_train, y_train), (x_test, y_test)= keras.datasets.fashion_mnist.load_data()\n",
    "\n",
    "\n",
    "train_df = pd.read_csv('')\n",
    "#test_df = pd.read_csv('/kaggle/input/fashionmnist/fashion-mnist_train.csv')\n",
    "#train_df.head()"
   ]
  },
  {
   "cell_type": "code",
   "execution_count": 19,
   "id": "b835053e",
   "metadata": {},
   "outputs": [],
   "source": [
    "train_data=np.array(train_df)# ,dtype='float32')\n",
    "#test_data=np.array(test_df)# ,dtype='float32')"
   ]
  },
  {
   "cell_type": "code",
   "execution_count": 20,
   "id": "ac543a87",
   "metadata": {},
   "outputs": [
    {
     "ename": "IndexError",
     "evalue": "too many indices for array: array is 1-dimensional, but 2 were indexed",
     "output_type": "error",
     "traceback": [
      "\u001b[0;31m---------------------------------------------------------------------------\u001b[0m",
      "\u001b[0;31mIndexError\u001b[0m                                Traceback (most recent call last)",
      "\u001b[0;32m<ipython-input-20-803387c3778d>\u001b[0m in \u001b[0;36m<module>\u001b[0;34m\u001b[0m\n\u001b[1;32m      1\u001b[0m \u001b[0mx_train\u001b[0m\u001b[0;34m=\u001b[0m \u001b[0mx_train\u001b[0m\u001b[0;34m[\u001b[0m\u001b[0;34m:\u001b[0m\u001b[0;34m,\u001b[0m\u001b[0;36m1\u001b[0m\u001b[0;34m:\u001b[0m\u001b[0;34m]\u001b[0m\u001b[0;34m/\u001b[0m\u001b[0;36m255\u001b[0m\u001b[0;34m\u001b[0m\u001b[0;34m\u001b[0m\u001b[0m\n\u001b[0;32m----> 2\u001b[0;31m \u001b[0my_train\u001b[0m\u001b[0;34m=\u001b[0m \u001b[0my_train\u001b[0m\u001b[0;34m[\u001b[0m\u001b[0;34m:\u001b[0m\u001b[0;34m,\u001b[0m\u001b[0;36m0\u001b[0m\u001b[0;34m]\u001b[0m\u001b[0;34m\u001b[0m\u001b[0;34m\u001b[0m\u001b[0m\n\u001b[0m\u001b[1;32m      3\u001b[0m \u001b[0;34m\u001b[0m\u001b[0m\n\u001b[1;32m      4\u001b[0m \u001b[0;31m#x_test= x_test[:,1:]/255\u001b[0m\u001b[0;34m\u001b[0m\u001b[0;34m\u001b[0m\u001b[0;34m\u001b[0m\u001b[0m\n\u001b[1;32m      5\u001b[0m \u001b[0;31m#y_test= y_test[:,0]\u001b[0m\u001b[0;34m\u001b[0m\u001b[0;34m\u001b[0m\u001b[0;34m\u001b[0m\u001b[0m\n",
      "\u001b[0;31mIndexError\u001b[0m: too many indices for array: array is 1-dimensional, but 2 were indexed"
     ]
    }
   ],
   "source": [
    "x_train= x_train[:,1:]/255\n",
    "y_train= y_train[:,0]\n",
    "\n",
    "x_test= x_test[:,1:]/255\n",
    "y_test= y_test[:,0]"
   ]
  },
  {
   "cell_type": "code",
   "execution_count": null,
   "id": "82cc78aa",
   "metadata": {},
   "outputs": [],
   "source": [
    "x_train.shape , y_train.shape"
   ]
  },
  {
   "cell_type": "code",
   "execution_count": null,
   "id": "5b2a36df",
   "metadata": {},
   "outputs": [],
   "source": [
    "class_names = ['T-shirt/top', 'Trouser', 'Pullover', 'Dress', 'Coat',\n",
    "               'Sandal', 'Shirt', 'Sneaker', 'Bag', 'Ankle boot']"
   ]
  },
  {
   "cell_type": "code",
   "execution_count": null,
   "id": "36a24d7e",
   "metadata": {},
   "outputs": [],
   "source": [
    "## Visualization\n",
    "plt.figure(figsize=(16,16))\n",
    "j = 1\n",
    "for i in np.random.randint(0,1000,25):\n",
    "  plt.subplot(5,5,j); j+=1\n",
    "  plt.imshow((x_train[i].reshape((28,28))),cmap = 'Greys')\n",
    "  plt.axis('off')\n",
    "  plt.title('{} / {}'.format(class_names[y_train[i]],y_train[i]))"
   ]
  },
  {
   "cell_type": "code",
   "execution_count": null,
   "id": "b9eb1dc0",
   "metadata": {},
   "outputs": [],
   "source": [
    "## data split\n",
    "x_train,x_validate,y_train,y_validate=train_test_split(\n",
    "    x_train,y_train,test_size=0.2)"
   ]
  },
  {
   "cell_type": "code",
   "execution_count": null,
   "id": "27f06418",
   "metadata": {},
   "outputs": [],
   "source": [
    "im_rows = 28\n",
    "im_cols = 28\n",
    "batch_size = 512\n",
    "im_shape = (im_rows,im_cols,1)\n",
    "\n",
    "x_train= x_train.reshape(x_train.shape[0],*im_shape)\n",
    "x_test= x_test.reshape(x_test.shape[0],*im_shape)\n",
    "x_validate= x_validate.reshape(x_validate.shape[0],*im_shape)"
   ]
  },
  {
   "cell_type": "code",
   "execution_count": null,
   "id": "d2b9e910",
   "metadata": {},
   "outputs": [],
   "source": [
    "print('x train shape:',format(x_train.shape))\n",
    "print('x test shape:',format(x_test.shape))\n",
    "print('x validate shape:',format(x_validate.shape))"
   ]
  },
  {
   "cell_type": "code",
   "execution_count": null,
   "id": "719f73a2",
   "metadata": {},
   "outputs": [],
   "source": [
    "## CNN model\n",
    "cnn_model= Sequential([\n",
    "    Conv2D(filters=32, kernel_size=3, activation='relu', input_shape=im_shape),\n",
    "    MaxPooling2D(pool_size=2),\n",
    "    Dropout(0.2),\n",
    "    \n",
    "    Flatten(),\n",
    "    Dense(32,activation='relu'),\n",
    "    Dense(10,activation='softmax')\n",
    "])"
   ]
  },
  {
   "cell_type": "code",
   "execution_count": null,
   "id": "f5fe5812",
   "metadata": {},
   "outputs": [],
   "source": [
    "cnn_model.summary()"
   ]
  },
  {
   "cell_type": "code",
   "execution_count": null,
   "id": "7562bfe1",
   "metadata": {},
   "outputs": [],
   "source": [
    "cnn_model.compile(\n",
    "    loss='sparse_categorical_crossentropy',\n",
    "    optimizer='Adam',\n",
    "    metrics=['accuracy']\n",
    ")"
   ]
  },
  {
   "cell_type": "code",
   "execution_count": null,
   "id": "dbe06d1d",
   "metadata": {},
   "outputs": [],
   "source": [
    "history=cnn_model.fit(\n",
    "    x_train, y_train, batch_size=batch_size,\n",
    "    epochs=10, verbose=1,\n",
    "    validation_data=(x_validate, y_validate),\n",
    ")"
   ]
  },
  {
   "cell_type": "code",
   "execution_count": null,
   "id": "9fbeceb9",
   "metadata": {},
   "outputs": [],
   "source": [
    "## Accuracy of trainnig data sets\n",
    "score = cnn_model.evaluate(x_train, y_train, verbose=1)\n",
    "\n",
    "print('train loss: {:.4f}'.format(score[0]))\n",
    "print('train acc: {:.4f}'.format(score[1]))"
   ]
  },
  {
   "cell_type": "code",
   "execution_count": null,
   "id": "7dc79d53",
   "metadata": {},
   "outputs": [],
   "source": [
    "loss = history.history['loss']\n",
    "plt.plot(loss)\n",
    "plt.xlabel('Epochs')\n",
    "plt.ylabel('Loss')\n",
    "plt.legend(['Train error'], loc='upper right')\n",
    "plt.savefig('plot_error.png')\n",
    "plt.show()"
   ]
  },
  {
   "cell_type": "code",
   "execution_count": null,
   "id": "954d7b4f",
   "metadata": {},
   "outputs": [],
   "source": [
    "## Accuracy for Validation data sets\n",
    "score = cnn_model.evaluate(x_validate, y_validate, verbose=1)\n",
    "\n",
    "print('Validation loss: {:.4f}'.format(score[0]))\n",
    "print('Validation acc: {:.4f}'.format(score[1]))"
   ]
  },
  {
   "cell_type": "code",
   "execution_count": null,
   "id": "999cd1f3",
   "metadata": {},
   "outputs": [],
   "source": [
    "predictions=cnn_model.predict(x_test).round(2)\n",
    "predictions"
   ]
  },
  {
   "cell_type": "code",
   "execution_count": null,
   "id": "1366b192",
   "metadata": {},
   "outputs": [],
   "source": [
    "print(class_names[np.argmax(predictions[9])])\n",
    "plt.matshow(x_test[9])"
   ]
  },
  {
   "cell_type": "code",
   "execution_count": null,
   "id": "f41ae82d",
   "metadata": {},
   "outputs": [],
   "source": [
    "## Accuracy for test data sets\n",
    "score = cnn_model.evaluate(x_test, y_test, verbose=0)\n",
    "\n",
    "print('test loss: {:.4f}'.format(score[0]))\n",
    "print('test acc: {:.4f}'.format(score[1]))"
   ]
  },
  {
   "cell_type": "code",
   "execution_count": null,
   "id": "e0fc8441",
   "metadata": {},
   "outputs": [],
   "source": [
    "plt.figure(figsize=(20,35))\n",
    "j = 1\n",
    "for i in np.random.randint(0,1000,50):\n",
    "  plt.subplot(10,5,j); j+=1\n",
    "  plt.imshow((x_test[i].reshape((28,28))),cmap = 'Greys')\n",
    "  plt.axis('off')\n",
    "\n",
    "  plt.title('Actual = {} / {} \\nPredicted = {} / {}'.format(class_names[y_test[i]], y_test[i], \n",
    "     class_names[np.argmax(predictions[i])],np.argmax(predictions[i])))"
   ]
  },
  {
   "cell_type": "code",
   "execution_count": null,
   "id": "f7741fc3",
   "metadata": {},
   "outputs": [],
   "source": [
    "## confusion matrix\n",
    "\n",
    "plt.figure(figsize=(16,9))\n",
    "predictions_labels = [ np.argmax(label) for label in predictions ]\n",
    "predictions_labels\n",
    "cm = confusion_matrix(y_test, predictions_labels)\n",
    "\n",
    "sns.heatmap(cm, annot=True, fmt='d',xticklabels=class_names, yticklabels=class_names)"
   ]
  }
 ],
 "metadata": {
  "kernelspec": {
   "display_name": "Python 3",
   "language": "python",
   "name": "python3"
  },
  "language_info": {
   "codemirror_mode": {
    "name": "ipython",
    "version": 3
   },
   "file_extension": ".py",
   "mimetype": "text/x-python",
   "name": "python",
   "nbconvert_exporter": "python",
   "pygments_lexer": "ipython3",
   "version": "3.8.8"
  }
 },
 "nbformat": 4,
 "nbformat_minor": 5
}
